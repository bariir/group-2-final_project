{
 "cells": [
  {
   "cell_type": "markdown",
   "metadata": {},
   "source": [
    "Dependencies"
   ]
  },
  {
   "cell_type": "code",
   "execution_count": 2,
   "metadata": {},
   "outputs": [],
   "source": [
    "%matplotlib inline\n",
    "import matplotlib.pyplot as plt\n",
    "import numpy as np\n",
    "import pandas as pd\n",
    "import pathlib as Path"
   ]
  },
  {
   "cell_type": "code",
   "execution_count": null,
   "metadata": {},
   "outputs": [],
   "source": [
    "#EDA\n",
    "standardscaler, kmean"
   ]
  },
  {
   "cell_type": "markdown",
   "metadata": {},
   "source": [
    "Dataset"
   ]
  },
  {
   "cell_type": "code",
   "execution_count": 54,
   "metadata": {},
   "outputs": [
    {
     "data": {
      "text/html": [
       "<div>\n",
       "<style scoped>\n",
       "    .dataframe tbody tr th:only-of-type {\n",
       "        vertical-align: middle;\n",
       "    }\n",
       "\n",
       "    .dataframe tbody tr th {\n",
       "        vertical-align: top;\n",
       "    }\n",
       "\n",
       "    .dataframe thead th {\n",
       "        text-align: right;\n",
       "    }\n",
       "</style>\n",
       "<table border=\"1\" class=\"dataframe\">\n",
       "  <thead>\n",
       "    <tr style=\"text-align: right;\">\n",
       "      <th></th>\n",
       "      <th>id</th>\n",
       "      <th>artist_name</th>\n",
       "      <th>track_name</th>\n",
       "      <th>track_id</th>\n",
       "      <th>popularity</th>\n",
       "      <th>danceability</th>\n",
       "      <th>energy</th>\n",
       "      <th>key</th>\n",
       "      <th>loudness</th>\n",
       "      <th>mode</th>\n",
       "      <th>speechiness</th>\n",
       "      <th>acousticness</th>\n",
       "      <th>instrumentalness</th>\n",
       "      <th>liveness</th>\n",
       "      <th>valence</th>\n",
       "      <th>tempo</th>\n",
       "      <th>duration_ms</th>\n",
       "      <th>time_signature</th>\n",
       "    </tr>\n",
       "  </thead>\n",
       "  <tbody>\n",
       "    <tr>\n",
       "      <th>0</th>\n",
       "      <td>1</td>\n",
       "      <td>Olivia Rodrigo</td>\n",
       "      <td>drivers license</td>\n",
       "      <td>5wANPM4fQCJwkGd4rN57mH</td>\n",
       "      <td>92</td>\n",
       "      <td>0.561</td>\n",
       "      <td>0.431</td>\n",
       "      <td>10</td>\n",
       "      <td>-8.810</td>\n",
       "      <td>1</td>\n",
       "      <td>0.0578</td>\n",
       "      <td>0.76800</td>\n",
       "      <td>0.000014</td>\n",
       "      <td>0.1060</td>\n",
       "      <td>0.137</td>\n",
       "      <td>143.875</td>\n",
       "      <td>242013</td>\n",
       "      <td>4</td>\n",
       "    </tr>\n",
       "    <tr>\n",
       "      <th>1</th>\n",
       "      <td>2</td>\n",
       "      <td>Lil Nas X</td>\n",
       "      <td>MONTERO (Call Me By Your Name)</td>\n",
       "      <td>1SC5rEoYDGUK4NfG82494W</td>\n",
       "      <td>90</td>\n",
       "      <td>0.593</td>\n",
       "      <td>0.503</td>\n",
       "      <td>8</td>\n",
       "      <td>-6.725</td>\n",
       "      <td>0</td>\n",
       "      <td>0.2200</td>\n",
       "      <td>0.29300</td>\n",
       "      <td>0.000000</td>\n",
       "      <td>0.4050</td>\n",
       "      <td>0.710</td>\n",
       "      <td>178.781</td>\n",
       "      <td>137704</td>\n",
       "      <td>4</td>\n",
       "    </tr>\n",
       "    <tr>\n",
       "      <th>2</th>\n",
       "      <td>3</td>\n",
       "      <td>The Kid LAROI</td>\n",
       "      <td>STAY (with Justin Bieber)</td>\n",
       "      <td>5PjdY0CKGZdEuoNab3yDmX</td>\n",
       "      <td>92</td>\n",
       "      <td>0.591</td>\n",
       "      <td>0.764</td>\n",
       "      <td>1</td>\n",
       "      <td>-5.484</td>\n",
       "      <td>1</td>\n",
       "      <td>0.0483</td>\n",
       "      <td>0.03830</td>\n",
       "      <td>0.000000</td>\n",
       "      <td>0.1030</td>\n",
       "      <td>0.478</td>\n",
       "      <td>169.928</td>\n",
       "      <td>141806</td>\n",
       "      <td>4</td>\n",
       "    </tr>\n",
       "    <tr>\n",
       "      <th>3</th>\n",
       "      <td>4</td>\n",
       "      <td>Olivia Rodrigo</td>\n",
       "      <td>good 4 u</td>\n",
       "      <td>4ZtFanR9U6ndgddUvNcjcG</td>\n",
       "      <td>95</td>\n",
       "      <td>0.563</td>\n",
       "      <td>0.664</td>\n",
       "      <td>9</td>\n",
       "      <td>-5.044</td>\n",
       "      <td>1</td>\n",
       "      <td>0.1540</td>\n",
       "      <td>0.33500</td>\n",
       "      <td>0.000000</td>\n",
       "      <td>0.0849</td>\n",
       "      <td>0.688</td>\n",
       "      <td>166.928</td>\n",
       "      <td>178147</td>\n",
       "      <td>4</td>\n",
       "    </tr>\n",
       "    <tr>\n",
       "      <th>4</th>\n",
       "      <td>5</td>\n",
       "      <td>Dua Lipa</td>\n",
       "      <td>Levitating (feat. DaBaby)</td>\n",
       "      <td>5nujrmhLynf4yMoMtj8AQF</td>\n",
       "      <td>89</td>\n",
       "      <td>0.702</td>\n",
       "      <td>0.825</td>\n",
       "      <td>6</td>\n",
       "      <td>-3.787</td>\n",
       "      <td>0</td>\n",
       "      <td>0.0601</td>\n",
       "      <td>0.00883</td>\n",
       "      <td>0.000000</td>\n",
       "      <td>0.0674</td>\n",
       "      <td>0.915</td>\n",
       "      <td>102.977</td>\n",
       "      <td>203064</td>\n",
       "      <td>4</td>\n",
       "    </tr>\n",
       "  </tbody>\n",
       "</table>\n",
       "</div>"
      ],
      "text/plain": [
       "   id     artist_name                      track_name                track_id  \\\n",
       "0   1  Olivia Rodrigo                 drivers license  5wANPM4fQCJwkGd4rN57mH   \n",
       "1   2       Lil Nas X  MONTERO (Call Me By Your Name)  1SC5rEoYDGUK4NfG82494W   \n",
       "2   3   The Kid LAROI       STAY (with Justin Bieber)  5PjdY0CKGZdEuoNab3yDmX   \n",
       "3   4  Olivia Rodrigo                        good 4 u  4ZtFanR9U6ndgddUvNcjcG   \n",
       "4   5        Dua Lipa       Levitating (feat. DaBaby)  5nujrmhLynf4yMoMtj8AQF   \n",
       "\n",
       "   popularity  danceability  energy  key  loudness  mode  speechiness  \\\n",
       "0          92         0.561   0.431   10    -8.810     1       0.0578   \n",
       "1          90         0.593   0.503    8    -6.725     0       0.2200   \n",
       "2          92         0.591   0.764    1    -5.484     1       0.0483   \n",
       "3          95         0.563   0.664    9    -5.044     1       0.1540   \n",
       "4          89         0.702   0.825    6    -3.787     0       0.0601   \n",
       "\n",
       "   acousticness  instrumentalness  liveness  valence    tempo  duration_ms  \\\n",
       "0       0.76800          0.000014    0.1060    0.137  143.875       242013   \n",
       "1       0.29300          0.000000    0.4050    0.710  178.781       137704   \n",
       "2       0.03830          0.000000    0.1030    0.478  169.928       141806   \n",
       "3       0.33500          0.000000    0.0849    0.688  166.928       178147   \n",
       "4       0.00883          0.000000    0.0674    0.915  102.977       203064   \n",
       "\n",
       "   time_signature  \n",
       "0               4  \n",
       "1               4  \n",
       "2               4  \n",
       "3               4  \n",
       "4               4  "
      ]
     },
     "execution_count": 54,
     "metadata": {},
     "output_type": "execute_result"
    }
   ],
   "source": [
    "#Read CSV file into pandas DF\n",
    "music=pd.read_csv(\"Resources/spotify_top50_2021.csv\")\n",
    "music.head()\n",
    "#music=Path('Resources/spotify_top50_2021.csv')\n",
    "#music"
   ]
  },
  {
   "cell_type": "code",
   "execution_count": 75,
   "metadata": {},
   "outputs": [
    {
     "name": "stdout",
     "output_type": "stream",
     "text": [
      "Column id has 0 null values\n",
      "Column artist_name has 0 null values\n",
      "Column track_name has 0 null values\n",
      "Column track_id has 0 null values\n",
      "Column popularity has 0 null values\n",
      "Column danceability has 0 null values\n",
      "Column energy has 0 null values\n",
      "Column key has 0 null values\n",
      "Column loudness has 0 null values\n",
      "Column mode has 0 null values\n",
      "Column speechiness has 0 null values\n",
      "Column acousticness has 0 null values\n",
      "Column instrumentalness has 0 null values\n",
      "Column liveness has 0 null values\n",
      "Column valence has 0 null values\n",
      "Column tempo has 0 null values\n",
      "Column duration_ms has 0 null values\n",
      "Column time_signature has 0 null values\n"
     ]
    }
   ],
   "source": [
    "from pandas import isnull\n",
    "\n",
    "\n",
    "def count_null_df():\n",
    "    for column in music.columns:\n",
    "        print(f\"Column {column} has {music[ column ].isnull().sum()} null values\")\n",
    "    return count_null_df\n",
    "# call the function to return data\n",
    "df = count_null_df()"
   ]
  },
  {
   "cell_type": "code",
   "execution_count": null,
   "metadata": {},
   "outputs": [],
   "source": []
  },
  {
   "cell_type": "code",
   "execution_count": 69,
   "metadata": {},
   "outputs": [
    {
     "name": "stdout",
     "output_type": "stream",
     "text": [
      "<class 'pandas.core.frame.DataFrame'>\n",
      "RangeIndex: 50 entries, 0 to 49\n",
      "Data columns (total 18 columns):\n",
      " #   Column            Non-Null Count  Dtype  \n",
      "---  ------            --------------  -----  \n",
      " 0   id                50 non-null     int64  \n",
      " 1   artist_name       50 non-null     object \n",
      " 2   track_name        50 non-null     object \n",
      " 3   track_id          50 non-null     object \n",
      " 4   popularity        50 non-null     int64  \n",
      " 5   danceability      50 non-null     float64\n",
      " 6   energy            50 non-null     float64\n",
      " 7   key               50 non-null     int64  \n",
      " 8   loudness          50 non-null     float64\n",
      " 9   mode              50 non-null     int64  \n",
      " 10  speechiness       50 non-null     float64\n",
      " 11  acousticness      50 non-null     float64\n",
      " 12  instrumentalness  50 non-null     float64\n",
      " 13  liveness          50 non-null     float64\n",
      " 14  valence           50 non-null     float64\n",
      " 15  tempo             50 non-null     float64\n",
      " 16  duration_ms       50 non-null     int64  \n",
      " 17  time_signature    50 non-null     int64  \n",
      "dtypes: float64(9), int64(6), object(3)\n",
      "memory usage: 7.2+ KB\n"
     ]
    },
    {
     "data": {
      "text/html": [
       "<div>\n",
       "<style scoped>\n",
       "    .dataframe tbody tr th:only-of-type {\n",
       "        vertical-align: middle;\n",
       "    }\n",
       "\n",
       "    .dataframe tbody tr th {\n",
       "        vertical-align: top;\n",
       "    }\n",
       "\n",
       "    .dataframe thead th {\n",
       "        text-align: right;\n",
       "    }\n",
       "</style>\n",
       "<table border=\"1\" class=\"dataframe\">\n",
       "  <thead>\n",
       "    <tr style=\"text-align: right;\">\n",
       "      <th></th>\n",
       "      <th>id</th>\n",
       "      <th>popularity</th>\n",
       "      <th>danceability</th>\n",
       "      <th>energy</th>\n",
       "      <th>key</th>\n",
       "      <th>loudness</th>\n",
       "      <th>mode</th>\n",
       "      <th>speechiness</th>\n",
       "      <th>acousticness</th>\n",
       "      <th>instrumentalness</th>\n",
       "      <th>liveness</th>\n",
       "      <th>valence</th>\n",
       "      <th>tempo</th>\n",
       "      <th>duration_ms</th>\n",
       "      <th>time_signature</th>\n",
       "    </tr>\n",
       "  </thead>\n",
       "  <tbody>\n",
       "    <tr>\n",
       "      <th>count</th>\n",
       "      <td>50.00000</td>\n",
       "      <td>50.000000</td>\n",
       "      <td>50.000000</td>\n",
       "      <td>50.00000</td>\n",
       "      <td>50.000000</td>\n",
       "      <td>50.000000</td>\n",
       "      <td>50.000000</td>\n",
       "      <td>50.000000</td>\n",
       "      <td>50.000000</td>\n",
       "      <td>50.000000</td>\n",
       "      <td>50.000000</td>\n",
       "      <td>50.000000</td>\n",
       "      <td>50.000000</td>\n",
       "      <td>50.000000</td>\n",
       "      <td>50.000000</td>\n",
       "    </tr>\n",
       "    <tr>\n",
       "      <th>mean</th>\n",
       "      <td>25.50000</td>\n",
       "      <td>86.800000</td>\n",
       "      <td>0.685720</td>\n",
       "      <td>0.64636</td>\n",
       "      <td>5.180000</td>\n",
       "      <td>-5.903920</td>\n",
       "      <td>0.620000</td>\n",
       "      <td>0.081374</td>\n",
       "      <td>0.253811</td>\n",
       "      <td>0.001606</td>\n",
       "      <td>0.182292</td>\n",
       "      <td>0.528884</td>\n",
       "      <td>121.083860</td>\n",
       "      <td>197488.400000</td>\n",
       "      <td>3.960000</td>\n",
       "    </tr>\n",
       "    <tr>\n",
       "      <th>std</th>\n",
       "      <td>14.57738</td>\n",
       "      <td>6.266203</td>\n",
       "      <td>0.124987</td>\n",
       "      <td>0.14712</td>\n",
       "      <td>3.868713</td>\n",
       "      <td>2.036948</td>\n",
       "      <td>0.490314</td>\n",
       "      <td>0.057164</td>\n",
       "      <td>0.235345</td>\n",
       "      <td>0.006425</td>\n",
       "      <td>0.137799</td>\n",
       "      <td>0.232789</td>\n",
       "      <td>29.252206</td>\n",
       "      <td>34727.260592</td>\n",
       "      <td>0.197949</td>\n",
       "    </tr>\n",
       "    <tr>\n",
       "      <th>min</th>\n",
       "      <td>1.00000</td>\n",
       "      <td>67.000000</td>\n",
       "      <td>0.380000</td>\n",
       "      <td>0.33900</td>\n",
       "      <td>0.000000</td>\n",
       "      <td>-11.639000</td>\n",
       "      <td>0.000000</td>\n",
       "      <td>0.028400</td>\n",
       "      <td>0.001460</td>\n",
       "      <td>0.000000</td>\n",
       "      <td>0.047600</td>\n",
       "      <td>0.082300</td>\n",
       "      <td>72.017000</td>\n",
       "      <td>132780.000000</td>\n",
       "      <td>3.000000</td>\n",
       "    </tr>\n",
       "    <tr>\n",
       "      <th>25%</th>\n",
       "      <td>13.25000</td>\n",
       "      <td>85.250000</td>\n",
       "      <td>0.597750</td>\n",
       "      <td>0.54525</td>\n",
       "      <td>1.000000</td>\n",
       "      <td>-7.186250</td>\n",
       "      <td>0.000000</td>\n",
       "      <td>0.046125</td>\n",
       "      <td>0.040000</td>\n",
       "      <td>0.000000</td>\n",
       "      <td>0.093225</td>\n",
       "      <td>0.401500</td>\n",
       "      <td>98.655500</td>\n",
       "      <td>172400.500000</td>\n",
       "      <td>4.000000</td>\n",
       "    </tr>\n",
       "    <tr>\n",
       "      <th>50%</th>\n",
       "      <td>25.50000</td>\n",
       "      <td>88.000000</td>\n",
       "      <td>0.714500</td>\n",
       "      <td>0.65650</td>\n",
       "      <td>5.500000</td>\n",
       "      <td>-5.485500</td>\n",
       "      <td>1.000000</td>\n",
       "      <td>0.063150</td>\n",
       "      <td>0.196000</td>\n",
       "      <td>0.000000</td>\n",
       "      <td>0.115000</td>\n",
       "      <td>0.518000</td>\n",
       "      <td>120.516500</td>\n",
       "      <td>198712.500000</td>\n",
       "      <td>4.000000</td>\n",
       "    </tr>\n",
       "    <tr>\n",
       "      <th>75%</th>\n",
       "      <td>37.75000</td>\n",
       "      <td>90.000000</td>\n",
       "      <td>0.774500</td>\n",
       "      <td>0.76475</td>\n",
       "      <td>8.000000</td>\n",
       "      <td>-4.258500</td>\n",
       "      <td>1.000000</td>\n",
       "      <td>0.094300</td>\n",
       "      <td>0.405500</td>\n",
       "      <td>0.000024</td>\n",
       "      <td>0.246500</td>\n",
       "      <td>0.706250</td>\n",
       "      <td>138.532000</td>\n",
       "      <td>215597.000000</td>\n",
       "      <td>4.000000</td>\n",
       "    </tr>\n",
       "    <tr>\n",
       "      <th>max</th>\n",
       "      <td>50.00000</td>\n",
       "      <td>95.000000</td>\n",
       "      <td>0.903000</td>\n",
       "      <td>0.89300</td>\n",
       "      <td>11.000000</td>\n",
       "      <td>-2.810000</td>\n",
       "      <td>1.000000</td>\n",
       "      <td>0.286000</td>\n",
       "      <td>0.827000</td>\n",
       "      <td>0.038200</td>\n",
       "      <td>0.688000</td>\n",
       "      <td>0.958000</td>\n",
       "      <td>180.917000</td>\n",
       "      <td>287120.000000</td>\n",
       "      <td>4.000000</td>\n",
       "    </tr>\n",
       "  </tbody>\n",
       "</table>\n",
       "</div>"
      ],
      "text/plain": [
       "             id  popularity  danceability    energy        key   loudness  \\\n",
       "count  50.00000   50.000000     50.000000  50.00000  50.000000  50.000000   \n",
       "mean   25.50000   86.800000      0.685720   0.64636   5.180000  -5.903920   \n",
       "std    14.57738    6.266203      0.124987   0.14712   3.868713   2.036948   \n",
       "min     1.00000   67.000000      0.380000   0.33900   0.000000 -11.639000   \n",
       "25%    13.25000   85.250000      0.597750   0.54525   1.000000  -7.186250   \n",
       "50%    25.50000   88.000000      0.714500   0.65650   5.500000  -5.485500   \n",
       "75%    37.75000   90.000000      0.774500   0.76475   8.000000  -4.258500   \n",
       "max    50.00000   95.000000      0.903000   0.89300  11.000000  -2.810000   \n",
       "\n",
       "            mode  speechiness  acousticness  instrumentalness   liveness  \\\n",
       "count  50.000000    50.000000     50.000000         50.000000  50.000000   \n",
       "mean    0.620000     0.081374      0.253811          0.001606   0.182292   \n",
       "std     0.490314     0.057164      0.235345          0.006425   0.137799   \n",
       "min     0.000000     0.028400      0.001460          0.000000   0.047600   \n",
       "25%     0.000000     0.046125      0.040000          0.000000   0.093225   \n",
       "50%     1.000000     0.063150      0.196000          0.000000   0.115000   \n",
       "75%     1.000000     0.094300      0.405500          0.000024   0.246500   \n",
       "max     1.000000     0.286000      0.827000          0.038200   0.688000   \n",
       "\n",
       "         valence       tempo    duration_ms  time_signature  \n",
       "count  50.000000   50.000000      50.000000       50.000000  \n",
       "mean    0.528884  121.083860  197488.400000        3.960000  \n",
       "std     0.232789   29.252206   34727.260592        0.197949  \n",
       "min     0.082300   72.017000  132780.000000        3.000000  \n",
       "25%     0.401500   98.655500  172400.500000        4.000000  \n",
       "50%     0.518000  120.516500  198712.500000        4.000000  \n",
       "75%     0.706250  138.532000  215597.000000        4.000000  \n",
       "max     0.958000  180.917000  287120.000000        4.000000  "
      ]
     },
     "execution_count": 69,
     "metadata": {},
     "output_type": "execute_result"
    }
   ],
   "source": [
    "music.info()\n",
    "\n",
    "music.describe()"
   ]
  },
  {
   "cell_type": "code",
   "execution_count": 70,
   "metadata": {},
   "outputs": [
    {
     "data": {
      "text/plain": [
       "0"
      ]
     },
     "execution_count": 70,
     "metadata": {},
     "output_type": "execute_result"
    }
   ],
   "source": [
    "music.duplicated().sum()"
   ]
  },
  {
   "cell_type": "code",
   "execution_count": 71,
   "metadata": {},
   "outputs": [
    {
     "ename": "AttributeError",
     "evalue": "'DataFrame' object has no attribute 'unique'",
     "output_type": "error",
     "traceback": [
      "\u001b[0;31m---------------------------------------------------------------------------\u001b[0m",
      "\u001b[0;31mAttributeError\u001b[0m                            Traceback (most recent call last)",
      "\u001b[0;32m/var/folders/6g/6jvgm8tx7cq144_29px4zwrw0000gn/T/ipykernel_1310/4240338625.py\u001b[0m in \u001b[0;36m<module>\u001b[0;34m\u001b[0m\n\u001b[0;32m----> 1\u001b[0;31m \u001b[0mmusic\u001b[0m\u001b[0;34m.\u001b[0m\u001b[0munique\u001b[0m\u001b[0;34m(\u001b[0m\u001b[0;34m)\u001b[0m\u001b[0;34m\u001b[0m\u001b[0;34m\u001b[0m\u001b[0m\n\u001b[0m",
      "\u001b[0;32m~/opt/anaconda3/envs/mlenv/lib/python3.7/site-packages/pandas/core/generic.py\u001b[0m in \u001b[0;36m__getattr__\u001b[0;34m(self, name)\u001b[0m\n\u001b[1;32m   5485\u001b[0m         ):\n\u001b[1;32m   5486\u001b[0m             \u001b[0;32mreturn\u001b[0m \u001b[0mself\u001b[0m\u001b[0;34m[\u001b[0m\u001b[0mname\u001b[0m\u001b[0;34m]\u001b[0m\u001b[0;34m\u001b[0m\u001b[0;34m\u001b[0m\u001b[0m\n\u001b[0;32m-> 5487\u001b[0;31m         \u001b[0;32mreturn\u001b[0m \u001b[0mobject\u001b[0m\u001b[0;34m.\u001b[0m\u001b[0m__getattribute__\u001b[0m\u001b[0;34m(\u001b[0m\u001b[0mself\u001b[0m\u001b[0;34m,\u001b[0m \u001b[0mname\u001b[0m\u001b[0;34m)\u001b[0m\u001b[0;34m\u001b[0m\u001b[0;34m\u001b[0m\u001b[0m\n\u001b[0m\u001b[1;32m   5488\u001b[0m \u001b[0;34m\u001b[0m\u001b[0m\n\u001b[1;32m   5489\u001b[0m     \u001b[0;32mdef\u001b[0m \u001b[0m__setattr__\u001b[0m\u001b[0;34m(\u001b[0m\u001b[0mself\u001b[0m\u001b[0;34m,\u001b[0m \u001b[0mname\u001b[0m\u001b[0;34m:\u001b[0m \u001b[0mstr\u001b[0m\u001b[0;34m,\u001b[0m \u001b[0mvalue\u001b[0m\u001b[0;34m)\u001b[0m \u001b[0;34m->\u001b[0m \u001b[0;32mNone\u001b[0m\u001b[0;34m:\u001b[0m\u001b[0;34m\u001b[0m\u001b[0;34m\u001b[0m\u001b[0m\n",
      "\u001b[0;31mAttributeError\u001b[0m: 'DataFrame' object has no attribute 'unique'"
     ]
    }
   ],
   "source": [
    "music.unique()"
   ]
  },
  {
   "cell_type": "markdown",
   "metadata": {},
   "source": [
    "Feature Importance"
   ]
  },
  {
   "cell_type": "code",
   "execution_count": 74,
   "metadata": {},
   "outputs": [
    {
     "name": "stdout",
     "output_type": "stream",
     "text": [
      "[0.09487393 0.0847241  0.09869949 0.09287983 0.04524875 0.07564315\n",
      " 0.08433355 0.058773   0.09158063 0.08730651 0.09476028 0.09117679]\n"
     ]
    },
    {
     "data": {
      "image/png": "[encoded data removed]",
      "text/plain": [
       "<Figure size 432x288 with 1 Axes>"
      ]
     },
     "metadata": {
      "needs_background": "light"
     },
     "output_type": "display_data"
    }
   ],
   "source": [
    "\n",
    "data = pd.read_csv(\"Resources/spotify_top50_2021.csv\")\n",
    "X = data.iloc[:,5:17]  #independent columns\n",
    "y = data.iloc[:,4]    #target column i.e price range\n",
    "from sklearn.ensemble import ExtraTreesClassifier\n",
    "import matplotlib.pyplot as plt\n",
    "model = ExtraTreesClassifier()\n",
    "model.fit(X,y)\n",
    "print(model.feature_importances_) #use inbuilt class feature_importances of tree based classifiers\n",
    "#plot graph of feature importances for better visualization\n",
    "feat_importances = pd.Series(model.feature_importances_, index=X.columns)\n",
    "feat_importances.nlargest(10).plot(kind='barh')\n",
    "plt.show()\n"
   ]
  },
  {
   "cell_type": "code",
   "execution_count": 67,
   "metadata": {},
   "outputs": [
    {
     "name": "stdout",
     "output_type": "stream",
     "text": [
      "Shape:  (50, 1) (50, 1)\n"
     ]
    }
   ],
   "source": [
    "\n",
    "#Assign the data to X and y\n",
    "X=music['valence'].values.reshape(-1,1)            ###put the selected columns in \"\"\n",
    "y=music['popularity'].values.reshape(-1,1)\n",
    "\n",
    "print(\"Shape: \",X.shape,y.shape)"
   ]
  },
  {
   "cell_type": "code",
   "execution_count": 68,
   "metadata": {},
   "outputs": [
    {
     "data": {
      "text/plain": [
       "Text(0, 0.5, 'Popularity')"
      ]
     },
     "execution_count": 68,
     "metadata": {},
     "output_type": "execute_result"
    },
    {
     "data": {
      "image/png": "[encoded data removed]",
      "text/plain": [
       "<Figure size 432x288 with 1 Axes>"
      ]
     },
     "metadata": {
      "needs_background": "light"
     },
     "output_type": "display_data"
    }
   ],
   "source": [
    "#Plot the data to find out if a linear trend exist\n",
    "plt.scatter(X,y)\n",
    "plt.xlabel(\"Tracks\")          ##Add the name of the x label\n",
    "plt.ylabel(\"Popularity\")          ##Add the name of the y label"
   ]
  },
  {
   "cell_type": "markdown",
   "metadata": {},
   "source": [
    "Train and Test the data"
   ]
  },
  {
   "cell_type": "code",
   "execution_count": 63,
   "metadata": {},
   "outputs": [],
   "source": [
    "#Use sklearn train_test_split() function to split the data into training and testing data\n",
    "from sklearn.model_selection import train_test_split\n",
    "X_train,X_test,y_train,y_test=train_test_split(X,y,random_state=1)"
   ]
  },
  {
   "cell_type": "code",
   "execution_count": 64,
   "metadata": {},
   "outputs": [],
   "source": [
    "#create a model\n",
    "from sklearn.linear_model import LinearRegression\n",
    "model=LinearRegression()"
   ]
  },
  {
   "cell_type": "code",
   "execution_count": 65,
   "metadata": {},
   "outputs": [
    {
     "data": {
      "text/plain": [
       "LinearRegression()"
      ]
     },
     "execution_count": 65,
     "metadata": {},
     "output_type": "execute_result"
    }
   ],
   "source": [
    "#fit the model to the training data\n",
    "model.fit(X_train,y_train)"
   ]
  },
  {
   "cell_type": "markdown",
   "metadata": {},
   "source": [
    "Mean_squared_error and r2_score"
   ]
  },
  {
   "cell_type": "code",
   "execution_count": 66,
   "metadata": {},
   "outputs": [
    {
     "name": "stdout",
     "output_type": "stream",
     "text": [
      "mean squared error (MSE): 40.36319197479271\n",
      "R-squared (R2): 0.08216100057320108\n"
     ]
    }
   ],
   "source": [
    "from sklearn.metrics import mean_squared_error,r2_score\n",
    "\n",
    "#use our model to make predictions\n",
    "predicted=model.predict(X_test)\n",
    "\n",
    "#Score the predictions with mse and r2\n",
    "mse=mean_squared_error(y_test,predicted)\n",
    "r2=r2_score(y_test,predicted)\n",
    "\n",
    "print(f\"mean squared error (MSE): {mse}\")\n",
    "print(f\"R-squared (R2): {r2}\")"
   ]
  },
  {
   "cell_type": "code",
   "execution_count": null,
   "metadata": {},
   "outputs": [],
   "source": []
  }
 ],
 "metadata": {
  "kernelspec": {
   "display_name": "Python 3.7.13 ('mlenv')",
   "language": "python",
   "name": "python3"
  },
  "language_info": {
   "codemirror_mode": {
    "name": "ipython",
    "version": 3
   },
   "file_extension": ".py",
   "mimetype": "text/x-python",
   "name": "python",
   "nbconvert_exporter": "python",
   "pygments_lexer": "ipython3",
   "version": "3.7.13"
  },
  "orig_nbformat": 4,
  "vscode": {
   "interpreter": {
    "hash": "5c1829341adfa24e6e77ef5332bad5fdb8401744769eb17d7144066db62ac728"
   }
  }
 },
 "nbformat": 4,
 "nbformat_minor": 2
}
